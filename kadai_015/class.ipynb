{
  "nbformat": 4,
  "nbformat_minor": 0,
  "metadata": {
    "colab": {
      "provenance": [],
      "gpuType": "T4"
    },
    "kernelspec": {
      "name": "python3",
      "display_name": "Python 3"
    },
    "language_info": {
      "name": "python"
    },
    "accelerator": "GPU"
  },
  "cells": [
    {
      "cell_type": "code",
      "source": [
        "class Human:\n",
        "  name = \"\"\n",
        "  age = 0\n",
        "\n",
        "  def __init__(self, name, age):\n",
        "    self.name = name\n",
        "    self.age = age\n",
        "\n",
        "  def printinfo(self):\n",
        "    print(\"私の名前は\" + self.name + \"で\" + str(self.age) + \"です。\")\n",
        "\n",
        "\n",
        "human = Human(\"サム\", 15)\n",
        "human.printinfo()"
      ],
      "metadata": {
        "colab": {
          "base_uri": "https://localhost:8080/"
        },
        "id": "SPAOzOiwti9R",
        "outputId": "6b76dd39-d480-4dc1-f743-38c9823fb71b"
      },
      "execution_count": 44,
      "outputs": [
        {
          "output_type": "stream",
          "name": "stdout",
          "text": [
            "私の名前はサムで15です。\n"
          ]
        }
      ]
    }
  ]
}