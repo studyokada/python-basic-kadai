{
  "nbformat": 4,
  "nbformat_minor": 0,
  "metadata": {
    "colab": {
      "provenance": [],
      "gpuType": "T4"
    },
    "kernelspec": {
      "name": "python3",
      "display_name": "Python 3"
    },
    "language_info": {
      "name": "python"
    },
    "accelerator": "GPU"
  },
  "cells": [
    {
      "cell_type": "code",
      "source": [
        "class Human:\n",
        "  name = \"\"\n",
        "  age = 0\n",
        "\n",
        "  def __init__(self, name, age):\n",
        "    self.name = name\n",
        "    self.age = age\n",
        "\n",
        "  def check_adult(self):\n",
        "    if self.age >= 20:\n",
        "      print(self.name + \"は大人である\")\n",
        "    else :\n",
        "      print(self.name + \"は子供である\")\n",
        "\n",
        "humansList = [\n",
        "    Human(\"サム\", 15),\n",
        "    Human(\"ボム\", 30),\n",
        "    Human(\"エレン\", 20),\n",
        "    Human(\"赤ちゃん\", 0)\n",
        "]\n",
        "\n",
        "for human in humansList:\n",
        "  human.check_adult()"
      ],
      "metadata": {
        "colab": {
          "base_uri": "https://localhost:8080/"
        },
        "id": "SPAOzOiwti9R",
        "outputId": "8e7c38d8-be8a-49ab-fa2b-c8f010e0e240"
      },
      "execution_count": 55,
      "outputs": [
        {
          "output_type": "stream",
          "name": "stdout",
          "text": [
            "サムは子供である\n",
            "ボムは大人である\n",
            "エレンは大人である\n",
            "赤ちゃんは子供である\n"
          ]
        }
      ]
    }
  ]
}