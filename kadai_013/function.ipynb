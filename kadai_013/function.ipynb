{
  "nbformat": 4,
  "nbformat_minor": 0,
  "metadata": {
    "colab": {
      "provenance": [],
      "gpuType": "T4"
    },
    "kernelspec": {
      "name": "python3",
      "display_name": "Python 3"
    },
    "language_info": {
      "name": "python"
    },
    "accelerator": "GPU"
  },
  "cells": [
    {
      "cell_type": "code",
      "source": [
        "\n",
        "def purchase(itemPrice, tax):\n",
        "  return itemPrice * (1 + tax)\n",
        "\n",
        "applePrice = 100\n",
        "tax = 0.1\n",
        "\n",
        "money = purchase(applePrice, tax)\n",
        "print(\"購入したりんごの値段は\" + str(money) + \"円です\")"
      ],
      "metadata": {
        "colab": {
          "base_uri": "https://localhost:8080/"
        },
        "id": "-HJiAXY-diRl",
        "outputId": "fca53a4d-8036-4255-f4cd-21dd174b27e0"
      },
      "execution_count": 39,
      "outputs": [
        {
          "output_type": "stream",
          "name": "stdout",
          "text": [
            "購入したりんごの値段は110.00000000000001円です\n"
          ]
        }
      ]
    }
  ]
}