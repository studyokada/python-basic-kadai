{
  "nbformat": 4,
  "nbformat_minor": 0,
  "metadata": {
    "colab": {
      "provenance": [],
      "gpuType": "T4"
    },
    "kernelspec": {
      "name": "python3",
      "display_name": "Python 3"
    },
    "language_info": {
      "name": "python"
    },
    "accelerator": "GPU"
  },
  "cells": [
    {
      "cell_type": "code",
      "source": [
        "var = 4\n",
        "\n",
        "if ((var % 3 == 0) and (var % 5) == 0):\n",
        "  print(\"FizzBuzz\")\n",
        "elif (var % 3 == 0):\n",
        "  print(\"Fizz\")\n",
        "elif (var % 5 == 0):\n",
        "  print(\"Buzz\")\n",
        "else :\n",
        "  print(var)"
      ],
      "metadata": {
        "colab": {
          "base_uri": "https://localhost:8080/"
        },
        "id": "-HJiAXY-diRl",
        "outputId": "fadcad9b-3973-4c61-e383-f763f9205044"
      },
      "execution_count": 26,
      "outputs": [
        {
          "output_type": "stream",
          "name": "stdout",
          "text": [
            "4\n"
          ]
        }
      ]
    }
  ]
}